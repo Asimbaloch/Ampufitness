{
 "cells": [
  {
   "cell_type": "code",
   "execution_count": 13,
   "metadata": {},
   "outputs": [
    {
     "name": "stdout",
     "output_type": "stream",
     "text": [
      "Requirement already satisfied: llama_index in c:\\users\\hp\\downloads\\ampufitness\\venv\\lib\\site-packages (0.10.33)\n",
      "Requirement already satisfied: llama-index-agent-openai<0.3.0,>=0.1.4 in c:\\users\\hp\\downloads\\ampufitness\\venv\\lib\\site-packages (from llama_index) (0.2.3)\n",
      "Requirement already satisfied: llama-index-cli<0.2.0,>=0.1.2 in c:\\users\\hp\\downloads\\ampufitness\\venv\\lib\\site-packages (from llama_index) (0.1.12)\n",
      "Requirement already satisfied: llama-index-core<0.11.0,>=0.10.32 in c:\\users\\hp\\downloads\\ampufitness\\venv\\lib\\site-packages (from llama_index) (0.10.33)\n",
      "Requirement already satisfied: llama-index-embeddings-openai<0.2.0,>=0.1.5 in c:\\users\\hp\\downloads\\ampufitness\\venv\\lib\\site-packages (from llama_index) (0.1.9)\n",
      "Requirement already satisfied: llama-index-indices-managed-llama-cloud<0.2.0,>=0.1.2 in c:\\users\\hp\\downloads\\ampufitness\\venv\\lib\\site-packages (from llama_index) (0.1.6)\n",
      "Requirement already satisfied: llama-index-legacy<0.10.0,>=0.9.48 in c:\\users\\hp\\downloads\\ampufitness\\venv\\lib\\site-packages (from llama_index) (0.9.48)\n",
      "Requirement already satisfied: llama-index-llms-openai<0.2.0,>=0.1.13 in c:\\users\\hp\\downloads\\ampufitness\\venv\\lib\\site-packages (from llama_index) (0.1.16)\n",
      "Requirement already satisfied: llama-index-multi-modal-llms-openai<0.2.0,>=0.1.3 in c:\\users\\hp\\downloads\\ampufitness\\venv\\lib\\site-packages (from llama_index) (0.1.5)\n",
      "Requirement already satisfied: llama-index-program-openai<0.2.0,>=0.1.3 in c:\\users\\hp\\downloads\\ampufitness\\venv\\lib\\site-packages (from llama_index) (0.1.6)\n",
      "Requirement already satisfied: llama-index-question-gen-openai<0.2.0,>=0.1.2 in c:\\users\\hp\\downloads\\ampufitness\\venv\\lib\\site-packages (from llama_index) (0.1.3)\n",
      "Requirement already satisfied: llama-index-readers-file<0.2.0,>=0.1.4 in c:\\users\\hp\\downloads\\ampufitness\\venv\\lib\\site-packages (from llama_index) (0.1.19)\n",
      "Requirement already satisfied: llama-index-readers-llama-parse<0.2.0,>=0.1.2 in c:\\users\\hp\\downloads\\ampufitness\\venv\\lib\\site-packages (from llama_index) (0.1.4)\n",
      "Requirement already satisfied: openai>=1.14.0 in c:\\users\\hp\\downloads\\ampufitness\\venv\\lib\\site-packages (from llama-index-agent-openai<0.3.0,>=0.1.4->llama_index) (1.23.6)\n",
      "Requirement already satisfied: PyYAML>=6.0.1 in c:\\users\\hp\\downloads\\ampufitness\\venv\\lib\\site-packages (from llama-index-core<0.11.0,>=0.10.32->llama_index) (6.0.1)\n",
      "Requirement already satisfied: SQLAlchemy>=1.4.49 in c:\\users\\hp\\downloads\\ampufitness\\venv\\lib\\site-packages (from SQLAlchemy[asyncio]>=1.4.49->llama-index-core<0.11.0,>=0.10.32->llama_index) (2.0.29)\n",
      "Requirement already satisfied: aiohttp<4.0.0,>=3.8.6 in c:\\users\\hp\\downloads\\ampufitness\\venv\\lib\\site-packages (from llama-index-core<0.11.0,>=0.10.32->llama_index) (3.9.5)\n",
      "Requirement already satisfied: dataclasses-json in c:\\users\\hp\\downloads\\ampufitness\\venv\\lib\\site-packages (from llama-index-core<0.11.0,>=0.10.32->llama_index) (0.6.5)\n",
      "Requirement already satisfied: deprecated>=1.2.9.3 in c:\\users\\hp\\downloads\\ampufitness\\venv\\lib\\site-packages (from llama-index-core<0.11.0,>=0.10.32->llama_index) (1.2.14)\n",
      "Requirement already satisfied: dirtyjson<2.0.0,>=1.0.8 in c:\\users\\hp\\downloads\\ampufitness\\venv\\lib\\site-packages (from llama-index-core<0.11.0,>=0.10.32->llama_index) (1.0.8)\n",
      "Requirement already satisfied: fsspec>=2023.5.0 in c:\\users\\hp\\downloads\\ampufitness\\venv\\lib\\site-packages (from llama-index-core<0.11.0,>=0.10.32->llama_index) (2024.3.1)\n",
      "Requirement already satisfied: httpx in c:\\users\\hp\\downloads\\ampufitness\\venv\\lib\\site-packages (from llama-index-core<0.11.0,>=0.10.32->llama_index) (0.27.0)\n",
      "Requirement already satisfied: llamaindex-py-client<0.2.0,>=0.1.18 in c:\\users\\hp\\downloads\\ampufitness\\venv\\lib\\site-packages (from llama-index-core<0.11.0,>=0.10.32->llama_index) (0.1.19)\n",
      "Requirement already satisfied: nest-asyncio<2.0.0,>=1.5.8 in c:\\users\\hp\\downloads\\ampufitness\\venv\\lib\\site-packages (from llama-index-core<0.11.0,>=0.10.32->llama_index) (1.6.0)\n",
      "Requirement already satisfied: networkx>=3.0 in c:\\users\\hp\\downloads\\ampufitness\\venv\\lib\\site-packages (from llama-index-core<0.11.0,>=0.10.32->llama_index) (3.3)\n",
      "Requirement already satisfied: nltk<4.0.0,>=3.8.1 in c:\\users\\hp\\downloads\\ampufitness\\venv\\lib\\site-packages (from llama-index-core<0.11.0,>=0.10.32->llama_index) (3.8.1)\n",
      "Requirement already satisfied: numpy in c:\\users\\hp\\downloads\\ampufitness\\venv\\lib\\site-packages (from llama-index-core<0.11.0,>=0.10.32->llama_index) (1.26.4)\n",
      "Requirement already satisfied: pandas in c:\\users\\hp\\downloads\\ampufitness\\venv\\lib\\site-packages (from llama-index-core<0.11.0,>=0.10.32->llama_index) (2.2.2)\n",
      "Requirement already satisfied: pillow>=9.0.0 in c:\\users\\hp\\downloads\\ampufitness\\venv\\lib\\site-packages (from llama-index-core<0.11.0,>=0.10.32->llama_index) (10.3.0)\n",
      "Requirement already satisfied: requests>=2.31.0 in c:\\users\\hp\\downloads\\ampufitness\\venv\\lib\\site-packages (from llama-index-core<0.11.0,>=0.10.32->llama_index) (2.31.0)\n",
      "Requirement already satisfied: tenacity<9.0.0,>=8.2.0 in c:\\users\\hp\\downloads\\ampufitness\\venv\\lib\\site-packages (from llama-index-core<0.11.0,>=0.10.32->llama_index) (8.2.3)\n",
      "Requirement already satisfied: tiktoken>=0.3.3 in c:\\users\\hp\\downloads\\ampufitness\\venv\\lib\\site-packages (from llama-index-core<0.11.0,>=0.10.32->llama_index) (0.6.0)\n",
      "Requirement already satisfied: tqdm<5.0.0,>=4.66.1 in c:\\users\\hp\\downloads\\ampufitness\\venv\\lib\\site-packages (from llama-index-core<0.11.0,>=0.10.32->llama_index) (4.66.2)\n",
      "Requirement already satisfied: typing-extensions>=4.5.0 in c:\\users\\hp\\downloads\\ampufitness\\venv\\lib\\site-packages (from llama-index-core<0.11.0,>=0.10.32->llama_index) (4.11.0)\n",
      "Requirement already satisfied: typing-inspect>=0.8.0 in c:\\users\\hp\\downloads\\ampufitness\\venv\\lib\\site-packages (from llama-index-core<0.11.0,>=0.10.32->llama_index) (0.9.0)\n",
      "Requirement already satisfied: wrapt in c:\\users\\hp\\downloads\\ampufitness\\venv\\lib\\site-packages (from llama-index-core<0.11.0,>=0.10.32->llama_index) (1.16.0)\n",
      "Requirement already satisfied: beautifulsoup4<5.0.0,>=4.12.3 in c:\\users\\hp\\downloads\\ampufitness\\venv\\lib\\site-packages (from llama-index-readers-file<0.2.0,>=0.1.4->llama_index) (4.12.3)\n",
      "Requirement already satisfied: pypdf<5.0.0,>=4.0.1 in c:\\users\\hp\\downloads\\ampufitness\\venv\\lib\\site-packages (from llama-index-readers-file<0.2.0,>=0.1.4->llama_index) (4.2.0)\n",
      "Requirement already satisfied: striprtf<0.0.27,>=0.0.26 in c:\\users\\hp\\downloads\\ampufitness\\venv\\lib\\site-packages (from llama-index-readers-file<0.2.0,>=0.1.4->llama_index) (0.0.26)\n",
      "Requirement already satisfied: llama-parse<0.5.0,>=0.4.0 in c:\\users\\hp\\downloads\\ampufitness\\venv\\lib\\site-packages (from llama-index-readers-llama-parse<0.2.0,>=0.1.2->llama_index) (0.4.2)\n",
      "Requirement already satisfied: aiosignal>=1.1.2 in c:\\users\\hp\\downloads\\ampufitness\\venv\\lib\\site-packages (from aiohttp<4.0.0,>=3.8.6->llama-index-core<0.11.0,>=0.10.32->llama_index) (1.3.1)\n",
      "Requirement already satisfied: attrs>=17.3.0 in c:\\users\\hp\\downloads\\ampufitness\\venv\\lib\\site-packages (from aiohttp<4.0.0,>=3.8.6->llama-index-core<0.11.0,>=0.10.32->llama_index) (23.2.0)\n",
      "Requirement already satisfied: frozenlist>=1.1.1 in c:\\users\\hp\\downloads\\ampufitness\\venv\\lib\\site-packages (from aiohttp<4.0.0,>=3.8.6->llama-index-core<0.11.0,>=0.10.32->llama_index) (1.4.1)\n",
      "Requirement already satisfied: multidict<7.0,>=4.5 in c:\\users\\hp\\downloads\\ampufitness\\venv\\lib\\site-packages (from aiohttp<4.0.0,>=3.8.6->llama-index-core<0.11.0,>=0.10.32->llama_index) (6.0.5)\n",
      "Requirement already satisfied: yarl<2.0,>=1.0 in c:\\users\\hp\\downloads\\ampufitness\\venv\\lib\\site-packages (from aiohttp<4.0.0,>=3.8.6->llama-index-core<0.11.0,>=0.10.32->llama_index) (1.9.4)\n",
      "Requirement already satisfied: soupsieve>1.2 in c:\\users\\hp\\downloads\\ampufitness\\venv\\lib\\site-packages (from beautifulsoup4<5.0.0,>=4.12.3->llama-index-readers-file<0.2.0,>=0.1.4->llama_index) (2.5)\n",
      "Requirement already satisfied: pydantic>=1.10 in c:\\users\\hp\\downloads\\ampufitness\\venv\\lib\\site-packages (from llamaindex-py-client<0.2.0,>=0.1.18->llama-index-core<0.11.0,>=0.10.32->llama_index) (2.7.1)\n",
      "Requirement already satisfied: anyio in c:\\users\\hp\\downloads\\ampufitness\\venv\\lib\\site-packages (from httpx->llama-index-core<0.11.0,>=0.10.32->llama_index) (4.3.0)\n",
      "Requirement already satisfied: certifi in c:\\users\\hp\\downloads\\ampufitness\\venv\\lib\\site-packages (from httpx->llama-index-core<0.11.0,>=0.10.32->llama_index) (2024.2.2)\n",
      "Requirement already satisfied: httpcore==1.* in c:\\users\\hp\\downloads\\ampufitness\\venv\\lib\\site-packages (from httpx->llama-index-core<0.11.0,>=0.10.32->llama_index) (1.0.5)\n",
      "Requirement already satisfied: idna in c:\\users\\hp\\downloads\\ampufitness\\venv\\lib\\site-packages (from httpx->llama-index-core<0.11.0,>=0.10.32->llama_index) (3.7)\n",
      "Requirement already satisfied: sniffio in c:\\users\\hp\\downloads\\ampufitness\\venv\\lib\\site-packages (from httpx->llama-index-core<0.11.0,>=0.10.32->llama_index) (1.3.1)\n",
      "Requirement already satisfied: h11<0.15,>=0.13 in c:\\users\\hp\\downloads\\ampufitness\\venv\\lib\\site-packages (from httpcore==1.*->httpx->llama-index-core<0.11.0,>=0.10.32->llama_index) (0.14.0)\n",
      "Requirement already satisfied: click in c:\\users\\hp\\downloads\\ampufitness\\venv\\lib\\site-packages (from nltk<4.0.0,>=3.8.1->llama-index-core<0.11.0,>=0.10.32->llama_index) (8.1.7)\n",
      "Requirement already satisfied: joblib in c:\\users\\hp\\downloads\\ampufitness\\venv\\lib\\site-packages (from nltk<4.0.0,>=3.8.1->llama-index-core<0.11.0,>=0.10.32->llama_index) (1.4.0)\n",
      "Requirement already satisfied: regex>=2021.8.3 in c:\\users\\hp\\downloads\\ampufitness\\venv\\lib\\site-packages (from nltk<4.0.0,>=3.8.1->llama-index-core<0.11.0,>=0.10.32->llama_index) (2024.4.28)\n",
      "Requirement already satisfied: distro<2,>=1.7.0 in c:\\users\\hp\\downloads\\ampufitness\\venv\\lib\\site-packages (from openai>=1.14.0->llama-index-agent-openai<0.3.0,>=0.1.4->llama_index) (1.9.0)\n",
      "Requirement already satisfied: charset-normalizer<4,>=2 in c:\\users\\hp\\downloads\\ampufitness\\venv\\lib\\site-packages (from requests>=2.31.0->llama-index-core<0.11.0,>=0.10.32->llama_index) (3.3.2)\n",
      "Requirement already satisfied: urllib3<3,>=1.21.1 in c:\\users\\hp\\downloads\\ampufitness\\venv\\lib\\site-packages (from requests>=2.31.0->llama-index-core<0.11.0,>=0.10.32->llama_index) (2.2.1)\n",
      "Requirement already satisfied: greenlet!=0.4.17 in c:\\users\\hp\\downloads\\ampufitness\\venv\\lib\\site-packages (from SQLAlchemy>=1.4.49->SQLAlchemy[asyncio]>=1.4.49->llama-index-core<0.11.0,>=0.10.32->llama_index) (3.0.3)\n",
      "Requirement already satisfied: colorama in c:\\users\\hp\\downloads\\ampufitness\\venv\\lib\\site-packages (from tqdm<5.0.0,>=4.66.1->llama-index-core<0.11.0,>=0.10.32->llama_index) (0.4.6)\n",
      "Requirement already satisfied: mypy-extensions>=0.3.0 in c:\\users\\hp\\downloads\\ampufitness\\venv\\lib\\site-packages (from typing-inspect>=0.8.0->llama-index-core<0.11.0,>=0.10.32->llama_index) (1.0.0)\n",
      "Requirement already satisfied: marshmallow<4.0.0,>=3.18.0 in c:\\users\\hp\\downloads\\ampufitness\\venv\\lib\\site-packages (from dataclasses-json->llama-index-core<0.11.0,>=0.10.32->llama_index) (3.21.1)\n",
      "Requirement already satisfied: python-dateutil>=2.8.2 in c:\\users\\hp\\downloads\\ampufitness\\venv\\lib\\site-packages (from pandas->llama-index-core<0.11.0,>=0.10.32->llama_index) (2.9.0.post0)\n",
      "Requirement already satisfied: pytz>=2020.1 in c:\\users\\hp\\downloads\\ampufitness\\venv\\lib\\site-packages (from pandas->llama-index-core<0.11.0,>=0.10.32->llama_index) (2024.1)\n",
      "Requirement already satisfied: tzdata>=2022.7 in c:\\users\\hp\\downloads\\ampufitness\\venv\\lib\\site-packages (from pandas->llama-index-core<0.11.0,>=0.10.32->llama_index) (2024.1)\n",
      "Requirement already satisfied: packaging>=17.0 in c:\\users\\hp\\downloads\\ampufitness\\venv\\lib\\site-packages (from marshmallow<4.0.0,>=3.18.0->dataclasses-json->llama-index-core<0.11.0,>=0.10.32->llama_index) (24.0)\n",
      "Requirement already satisfied: annotated-types>=0.4.0 in c:\\users\\hp\\downloads\\ampufitness\\venv\\lib\\site-packages (from pydantic>=1.10->llamaindex-py-client<0.2.0,>=0.1.18->llama-index-core<0.11.0,>=0.10.32->llama_index) (0.6.0)\n",
      "Requirement already satisfied: pydantic-core==2.18.2 in c:\\users\\hp\\downloads\\ampufitness\\venv\\lib\\site-packages (from pydantic>=1.10->llamaindex-py-client<0.2.0,>=0.1.18->llama-index-core<0.11.0,>=0.10.32->llama_index) (2.18.2)\n",
      "Requirement already satisfied: six>=1.5 in c:\\users\\hp\\downloads\\ampufitness\\venv\\lib\\site-packages (from python-dateutil>=2.8.2->pandas->llama-index-core<0.11.0,>=0.10.32->llama_index) (1.16.0)\n",
      "Note: you may need to restart the kernel to use updated packages.\n"
     ]
    }
   ],
   "source": [
    "%pip install llama_index"
   ]
  },
  {
   "cell_type": "code",
   "execution_count": 14,
   "metadata": {},
   "outputs": [],
   "source": [
    "from llama_index.core import VectorStoreIndex\n",
    "from llama_index.vector_stores.mongodb import MongoDBAtlasVectorSearch\n",
    "import sys\n",
    "from dotenv import load_dotenv"
   ]
  },
  {
   "cell_type": "code",
   "execution_count": 15,
   "metadata": {},
   "outputs": [
    {
     "data": {
      "text/plain": [
       "True"
      ]
     },
     "execution_count": 15,
     "metadata": {},
     "output_type": "execute_result"
    }
   ],
   "source": [
    "load_dotenv()"
   ]
  },
  {
   "cell_type": "code",
   "execution_count": 3,
   "metadata": {},
   "outputs": [
    {
     "name": "stdout",
     "output_type": "stream",
     "text": [
      "Current Directory c:\\Users\\HP\\Downloads\\Ampufitness\\backend\\RAG\n",
      "c:\\Users\\HP\\Downloads\\Ampufitness\\backend\n"
     ]
    }
   ],
   "source": [
    "import os\n",
    " \n",
    "# get current directory\n",
    "path = os.getcwd()\n",
    "print(\"Current Directory\", path)\n",
    " \n",
    "# prints parent directory\n",
    "print(os.path.abspath(os.path.join(path, os.pardir)))"
   ]
  },
  {
   "cell_type": "code",
   "execution_count": 4,
   "metadata": {},
   "outputs": [],
   "source": [
    "OPENAI_API_KEY=os.environ['OPENAI_API_KEY']"
   ]
  },
  {
   "cell_type": "code",
   "execution_count": 5,
   "metadata": {},
   "outputs": [],
   "source": [
    "COLLECTION_NAME=os.environ['COLLECTION_NAME']\n",
    "DB_NAME=os.environ['DB_NAME']"
   ]
  },
  {
   "cell_type": "code",
   "execution_count": 9,
   "metadata": {},
   "outputs": [
    {
     "name": "stdout",
     "output_type": "stream",
     "text": [
      "Connection to MongoDB successful\n"
     ]
    }
   ],
   "source": [
    "from mongodb_service import mongodb_setup\n",
    "db , mongo_client = mongodb_setup(DB_NAME=DB_NAME, COLLECTION_NAME=COLLECTION_NAME)"
   ]
  },
  {
   "cell_type": "code",
   "execution_count": 10,
   "metadata": {},
   "outputs": [],
   "source": [
    "vector_store=MongoDBAtlasVectorSearch(mongodb_client=mongo_client)"
   ]
  },
  {
   "cell_type": "code",
   "execution_count": 11,
   "metadata": {},
   "outputs": [],
   "source": [
    "sentence_index = VectorStoreIndex.from_vector_store(vector_store)"
   ]
  },
  {
   "cell_type": "code",
   "execution_count": null,
   "metadata": {},
   "outputs": [],
   "source": [
    "%pip install llama_index"
   ]
  },
  {
   "cell_type": "code",
   "execution_count": 19,
   "metadata": {},
   "outputs": [
    {
     "name": "stderr",
     "output_type": "stream",
     "text": [
      "c:\\Users\\HP\\Downloads\\Ampufitness\\venv\\Lib\\site-packages\\huggingface_hub\\file_download.py:148: UserWarning: `huggingface_hub` cache-system uses symlinks by default to efficiently store duplicated files but your machine does not support them in C:\\Users\\HP\\.cache\\huggingface\\hub\\models--BAAI--bge-reranker-base. Caching files will still work but in a degraded version that might require more space on your disk. This warning can be disabled by setting the `HF_HUB_DISABLE_SYMLINKS_WARNING` environment variable. For more details, see https://huggingface.co/docs/huggingface_hub/how-to-cache#limitations.\n",
      "To support symlinks on Windows, you either need to activate Developer Mode or to run Python as an administrator. In order to see activate developer mode, see this article: https://docs.microsoft.com/en-us/windows/apps/get-started/enable-your-device-for-development\n",
      "  warnings.warn(message)\n"
     ]
    }
   ],
   "source": [
    "from llama_index.core.postprocessor import MetadataReplacementPostProcessor\n",
    "from llama_index.core.postprocessor import SentenceTransformerRerank\n",
    "\n",
    "rerank = SentenceTransformerRerank(\n",
    "    top_n=2, model=\"BAAI/bge-reranker-base\"\n",
    ")\n",
    "postproc = MetadataReplacementPostProcessor(\n",
    "    target_metadata_key=\"window\"\n",
    ")"
   ]
  },
  {
   "cell_type": "code",
   "execution_count": null,
   "metadata": {},
   "outputs": [],
   "source": [
    "sentence_window_engine = sentence_index.as_query_engine(\n",
    "    similarity_top_k=6, node_postprocessors=[postproc, rerank]\n",
    ")"
   ]
  }
 ],
 "metadata": {
  "kernelspec": {
   "display_name": "venv",
   "language": "python",
   "name": "python3"
  },
  "language_info": {
   "codemirror_mode": {
    "name": "ipython",
    "version": 3
   },
   "file_extension": ".py",
   "mimetype": "text/x-python",
   "name": "python",
   "nbconvert_exporter": "python",
   "pygments_lexer": "ipython3",
   "version": "3.12.2"
  }
 },
 "nbformat": 4,
 "nbformat_minor": 2
}
